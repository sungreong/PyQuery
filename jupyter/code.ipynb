{
 "cells": [
  {
   "cell_type": "code",
   "execution_count": 1,
   "metadata": {},
   "outputs": [],
   "source": [
    "%load_ext autoreload\n",
    "%autoreload 2"
   ]
  },
  {
   "cell_type": "code",
   "execution_count": 2,
   "metadata": {},
   "outputs": [],
   "source": [
    "from src.oracle_sql import * "
   ]
  },
  {
   "cell_type": "code",
   "execution_count": 56,
   "metadata": {},
   "outputs": [
    {
     "name": "stdout",
     "output_type": "stream",
     "text": [
      "\n",
      "    WITH (CT AS SELECT A_COLUMN, COUNT(*) AS COUNT_INFO FROM A_TABLE WHERE A_COLUMN BETWEEN 10 AND 15 AND A_COLUMN > 10 GROUP BY A_COLUMN)\n",
      "    SELECT CT.A_COLUMN, CT.COUNT_INFO, SUM(CT.COUNT_INFO) AS TOTAL, CT.COUNT_INFO / TOTAL AS RATIO FROM CT;\n"
     ]
    }
   ],
   "source": [
    "import re\n",
    "def define_table(table_name : str ) :\n",
    "    return f\"FROM {table_name}\"\n",
    "\n",
    "\n",
    "def define_select_column(cols : list) :\n",
    "    if len(cols) == 0 :\n",
    "        cols = \"*\"\n",
    "    else :\n",
    "        cols = \", \".join(cols)\n",
    "    return f\"SELECT {cols}\"\n",
    "\n",
    "def define_group( cols:list) :\n",
    "    if len(cols) == 0 :\n",
    "        return \"\"\n",
    "    else :\n",
    "        cols = \", \".join(cols)\n",
    "        return f\"GROUP BY {cols}\"\n",
    "\n",
    "def define_order( order_cols : list, sorting_types : list = ['DESC']) :\n",
    "    if len(order_cols) == 0 :\n",
    "        return \"\"\n",
    "    \n",
    "    assert len(order_cols) == len(sorting_types), \"ORDER에 맞게 SORTING TYPE 정해야 함\"\n",
    "    return \", \".join([ f\"{col} {type}\" for col, type in zip(order_cols , sorting_types)]).strip()\n",
    "\n",
    "\n",
    "def make_query(select_c, from_c , order_c=\"\" ,  group_c=\"\", where_c=\"\", upper=True) :\n",
    "    query = f\"{select_c} {from_c} {where_c} {group_c} {order_c}\"\n",
    "    if upper :\n",
    "        query = query.upper()\n",
    "    return  re.sub(' +', ' ', query).strip()\n",
    "\n",
    "\n",
    "\n",
    "class WhereQuery(object) : \n",
    "\n",
    "    def __init__(self, col , table_name=None) :\n",
    "        self._col = col\n",
    "        if table_name is None :\n",
    "            pass \n",
    "        else :\n",
    "            self._col = f\"{table_name}.{self._col}\"\n",
    "    \n",
    "    def q_between(self,low,high , reverse=False):\n",
    "        \n",
    "        between_query = f\"{self._col} BETWEEN {low} AND {high}\"\n",
    "\n",
    "        if reverse :\n",
    "            return \"NOT {between_query} \"\n",
    "\n",
    "        else :\n",
    "            return between_query\n",
    "\n",
    "    def q_greather(self,low,equal=False) :\n",
    "        if equal :\n",
    "            return f\"{self._col} >= {low}\"\n",
    "        else :\n",
    "            return f\"{self._col} > {low}\"\n",
    "\n",
    "    def q_lower(self,high , equal=False) :\n",
    "        if equal :\n",
    "            return f\"{self._col} < {high}\"\n",
    "        else :\n",
    "            return f\"{self._col} <= {high}\"\n",
    "\n",
    "    def q_is_null(self, reverse=False) :\n",
    "        if reverse :\n",
    "            return f\"{self._col} IS NOT NULL\"\n",
    "        else :\n",
    "            return f\"{self._col} IS NULL\"\n",
    "\n",
    "    def q_equal(self, key, reverse=False) :\n",
    "        if reverse :\n",
    "            return f\"{self._col} != {key}\"\n",
    "        else :\n",
    "            return f\"{self._col} = {key}\"\n",
    "\n",
    "    def q_in(self, list_value, reverse=False) :\n",
    "        candidates = \", \".join(list_value)\n",
    "        if reverse :\n",
    "            return f\"{self._col} NOT IN ({candidates})\"\n",
    "        else :\n",
    "            return f\"{self._col} IN ({candidates})\"\n",
    "\n",
    "    def q_exists(self, sub_query, reverse=False) :\n",
    "        if reverse :\n",
    "            return f\"NOT EXISTS {sub_query}\"\n",
    "        else :\n",
    "            return f\"EXISTS {sub_query}\"\n",
    "\n",
    "    def q_like(self, pattern) :\n",
    "        return f\"{self._col} LIKE {pattern}\"\n",
    "\n",
    "    @staticmethod\n",
    "    def add_condition(query1 , query2, method) :\n",
    "        assert method in [\"AND\",\"OR\"] , \"AND or OR 만 가능합니다.\"\n",
    "        return f\"{query1} {method} {query2}\"\n",
    "\n",
    "    @staticmethod\n",
    "    def finish_query(query) :\n",
    "        return f\"WHERE {query}\"\n",
    "\n",
    "def define_temp_table(temp_table_name , query) :\n",
    "    return f\"WITH ({temp_table_name} AS {query})\"\n",
    "\n",
    "def concat_query(query1, query2) :\n",
    "    q_cat =f\"\"\"\n",
    "    {query1}\n",
    "    {query2}\"\"\"\n",
    "    return q_cat\n",
    "\n",
    "def finish_query(query) :\n",
    "    return f\"{query};\"\n",
    "\n",
    "\n",
    "from_clause = define_table(table_name = \"A_TABLE\")\n",
    "select_clause = define_select_column(cols = [\"A_COLUMN\",\"COUNT(*) AS COUNT_INFO\"])\n",
    "group_clause = define_group(cols=[\"A_COLUMN\"])\n",
    "\n",
    "where_sql = WhereQuery(\"a_column\")\n",
    "where_q1 = where_sql.q_between(10,15)\n",
    "where_q2 = where_sql.q_greather(10)\n",
    "where_q3 = where_sql.add_condition(where_q1 , where_q2,\"AND\")\n",
    "where_clause = where_sql.finish_query(where_q3)\n",
    "\n",
    "group_count_table = make_query(select_c=select_clause,from_c=from_clause,group_c=group_clause,where_c=where_clause)\n",
    "temp_table_query = define_temp_table(\"CT\", group_count_table)\n",
    "\n",
    "from_clause = define_table(table_name = \"CT\")\n",
    "select_clause = define_select_column(cols = [\"CT.A_COLUMN\",\"CT.COUNT_INFO\",\"SUM(CT.COUNT_INFO) AS TOTAL\" , \"CT.COUNT_INFO / TOTAL AS RATIO\"])\n",
    "summary_query = make_query(select_c=select_clause,from_c=from_clause)\n",
    "\n",
    "print(finish_query(concat_query(temp_table_query,summary_query)))\n"
   ]
  },
  {
   "cell_type": "code",
   "execution_count": 28,
   "metadata": {},
   "outputs": [],
   "source": []
  },
  {
   "cell_type": "code",
   "execution_count": 29,
   "metadata": {},
   "outputs": [
    {
     "data": {
      "text/plain": [
       "'WHERE a_column BETWEEN 10 AND 15 AND a_column > 10'"
      ]
     },
     "execution_count": 29,
     "metadata": {},
     "output_type": "execute_result"
    }
   ],
   "source": []
  },
  {
   "cell_type": "code",
   "execution_count": 14,
   "metadata": {},
   "outputs": [
    {
     "data": {
      "text/plain": [
       "'a_column > 10'"
      ]
     },
     "execution_count": 14,
     "metadata": {},
     "output_type": "execute_result"
    }
   ],
   "source": []
  },
  {
   "cell_type": "code",
   "execution_count": null,
   "metadata": {},
   "outputs": [],
   "source": []
  }
 ],
 "metadata": {
  "kernelspec": {
   "display_name": "Python 3.9.13 ('py39')",
   "language": "python",
   "name": "python3"
  },
  "language_info": {
   "codemirror_mode": {
    "name": "ipython",
    "version": 3
   },
   "file_extension": ".py",
   "mimetype": "text/x-python",
   "name": "python",
   "nbconvert_exporter": "python",
   "pygments_lexer": "ipython3",
   "version": "3.9.13"
  },
  "orig_nbformat": 4,
  "vscode": {
   "interpreter": {
    "hash": "17f19b2e755769a5519b38b6367878bc0c8e8eee85e91277104d2410a6f820df"
   }
  }
 },
 "nbformat": 4,
 "nbformat_minor": 2
}
