{
 "cells": [
  {
   "cell_type": "code",
   "execution_count": 1,
   "metadata": {},
   "outputs": [],
   "source": [
    "%reset -s -f\n",
    "%load_ext autoreload\n",
    "%autoreload 2\n"
   ]
  },
  {
   "cell_type": "code",
   "execution_count": 2,
   "metadata": {},
   "outputs": [],
   "source": [
    "\n",
    "import sys\n",
    "sys.path.append(\"./../\")\n",
    "from src.sql import ClauseManagement, ConditionQuery , SQL"
   ]
  },
  {
   "cell_type": "code",
   "execution_count": 3,
   "metadata": {},
   "outputs": [],
   "source": [
    "from_clause = SQL.define_table(table_names=[\"A_TABLE\"])\n",
    "select_clause = SQL.define_select_column(cols=[\"COUNT(*) AS COUNT_INFO\"])"
   ]
  },
  {
   "cell_type": "code",
   "execution_count": 4,
   "metadata": {},
   "outputs": [
    {
     "name": "stdout",
     "output_type": "stream",
     "text": [
      "\n",
      "SELECT COUNT(*) AS COUNT_INFO \n",
      "FROM A_TABLE;\n"
     ]
    }
   ],
   "source": [
    "q1 = SQL.make_query(\n",
    "        select_c=select_clause,\n",
    "        from_c=from_clause,\n",
    "        \n",
    ")\n",
    "print(SQL.finish_query(q1))"
   ]
  },
  {
   "cell_type": "code",
   "execution_count": 5,
   "metadata": {},
   "outputs": [
    {
     "name": "stdout",
     "output_type": "stream",
     "text": [
      "\n",
      "SELECT A_COLUMN, COUNT(*) AS COUNT_INFO \n",
      "FROM A_TABLE \n",
      "GROUP BY A_COLUMN;\n"
     ]
    }
   ],
   "source": [
    "from_clause = SQL.define_table(table_names=[\"A_TABLE\"])\n",
    "select_clause = SQL.define_select_column(cols=[\"A_COLUMN\", \"COUNT(*) AS COUNT_INFO\"])\n",
    "group_clause = SQL.define_group(cols=[\"A_COLUMN\"])\n",
    "q2 = SQL.make_query(\n",
    "        select_c=select_clause,\n",
    "        from_c=from_clause,\n",
    "        group_c=group_clause,\n",
    ")\n",
    "print(SQL.finish_query(q2))"
   ]
  },
  {
   "cell_type": "code",
   "execution_count": 6,
   "metadata": {},
   "outputs": [
    {
     "name": "stdout",
     "output_type": "stream",
     "text": [
      "\n",
      "SELECT A_COLUMN, COUNT(*) AS COUNT_INFO \n",
      "FROM A_TABLE \n",
      "WHERE A_COLUMN BETWEEN 10 \n",
      "AND 15 \n",
      "OR A_COLUMN > 30;\n"
     ]
    }
   ],
   "source": [
    "from_clause = SQL.define_table(table_names=[\"A_TABLE\"])\n",
    "select_clause = SQL.define_select_column(cols=[\"A_COLUMN\", \"COUNT(*) AS COUNT_INFO\"])\n",
    "\n",
    "where_sql = ConditionQuery(\"A_COLUMN\")\n",
    "where_q1 = where_sql.q_between(10, 15)\n",
    "where_q2 = where_sql.q_greather(30)\n",
    "where_q = ClauseManagement.add_condition_multiple(where_q1, where_q2, method=\"OR\")\n",
    "where_clause = ClauseManagement.finish_query(where_q, method=\"where\")\n",
    "q3 = SQL.make_query(\n",
    "        select_c=select_clause,\n",
    "        from_c=from_clause,\n",
    "        where_c=where_clause,\n",
    ")\n",
    "print(SQL.finish_query(q3))"
   ]
  },
  {
   "cell_type": "code",
   "execution_count": 7,
   "metadata": {},
   "outputs": [
    {
     "name": "stdout",
     "output_type": "stream",
     "text": [
      "\n",
      "SELECT A_COLUMN, COUNT(*) AS COUNT_INFO \n",
      "FROM A_TABLE \n",
      "WHERE C_COLUMN IN ('A', 'B', 'C');\n"
     ]
    }
   ],
   "source": [
    "from_clause = SQL.define_table(table_names=[\"A_TABLE\"])\n",
    "select_clause = SQL.define_select_column(cols=[\"A_COLUMN\", \"COUNT(*) AS COUNT_INFO\"])\n",
    "\n",
    "where_sql = ConditionQuery(\"C_COLUMN\")\n",
    "where_q = where_sql.q_in(['A',\"B\",\"C\"],to_string=\"true\")\n",
    "where_clause = ClauseManagement.finish_query(where_q, method=\"where\")\n",
    "q3 = SQL.make_query(\n",
    "        select_c=select_clause,\n",
    "        from_c=from_clause,\n",
    "        where_c=where_clause,\n",
    ")\n",
    "print(SQL.finish_query(q3))"
   ]
  },
  {
   "cell_type": "code",
   "execution_count": 8,
   "metadata": {},
   "outputs": [],
   "source": [
    "from src.sql import Column"
   ]
  },
  {
   "cell_type": "code",
   "execution_count": 9,
   "metadata": {},
   "outputs": [
    {
     "name": "stdout",
     "output_type": "stream",
     "text": [
      "\n",
      "SELECT A.A_COLUMN, (A.A_COLUMN / A.C_COLUMN) AS RATIO \n",
      "FROM A_TABLE A \n",
      "WHERE A.C_COLUMN IN ('A', 'B', 'C');\n"
     ]
    }
   ],
   "source": [
    "from_clause = SQL.define_table(table_names=[\"A_TABLE A\"])\n",
    "table_c_1 = Column()\n",
    "table_c_1.add_table_column_info([\"A_COLUMN\",\"B_COLUMN\",\"C_COLUMN\",\"D_COLUMN\"],alias=\"A\")\n",
    "\n",
    "A_1 = table_c_1.define(\"A_COLUMN\").get()\n",
    "A_2 = table_c_1.calculate(\"C_COLUMN\",\"/\").alias(\"RATIO\").get()\n",
    "\n",
    "select_clause = SQL.define_select_column(cols=[A_1,A_2])\n",
    "where_sql = ConditionQuery(table_c_1.define(\"C_COLUMN\").get())\n",
    "where_q = where_sql.q_in(['A',\"B\",\"C\"],to_string=\"true\")\n",
    "where_clause = ClauseManagement.finish_query(where_q, method=\"where\")\n",
    "q3 = SQL.make_query(\n",
    "        select_c=select_clause,\n",
    "        from_c=from_clause,\n",
    "        where_c=where_clause,\n",
    ")\n",
    "print(SQL.finish_query(q3))"
   ]
  },
  {
   "cell_type": "code",
   "execution_count": 23,
   "metadata": {},
   "outputs": [
    {
     "name": "stdout",
     "output_type": "stream",
     "text": [
      "(A.a / A.b) AS RATIO\n"
     ]
    }
   ],
   "source": [
    "del Column\n",
    "from src.sql import Column\n",
    "table_c_1 = Column()\n",
    "table_c_1.add_table_column_info([\"a\",\"b\",\"c\",\"d\"],alias=\"A\")\n",
    "table_c_2 = Column()\n",
    "table_c_2.add_table_column_info([\"a\",\"b\",\"c\",\"d\"],alias=\"B\")\n",
    "\n",
    "\n",
    "#table_h.divide(val=\"a\")\n",
    "table_c_1.define(\"a\")\n",
    "table_c_1.calculate(\"b\",method=\"/\")\n",
    "print(table_c_1.alias(\"RATIO\").get())\n"
   ]
  },
  {
   "cell_type": "code",
   "execution_count": 24,
   "metadata": {},
   "outputs": [
    {
     "name": "stdout",
     "output_type": "stream",
     "text": [
      "(A.a / B.c) AS RATIO\n"
     ]
    }
   ],
   "source": [
    "table_c_1.define(\"a\")\n",
    "table_c_2.define(\"c\")\n",
    "table_c_1.calculate(table_c_2,method=\"/\").get()\n",
    "print(table_c_1.alias(\"RATIO\").get())"
   ]
  },
  {
   "cell_type": "code",
   "execution_count": 26,
   "metadata": {},
   "outputs": [
    {
     "data": {
      "text/plain": [
       "'(A.RATIO * A.b) AS STH'"
      ]
     },
     "execution_count": 26,
     "metadata": {},
     "output_type": "execute_result"
    }
   ],
   "source": [
    "table_c_1.define(\"RATIO\").calculate(\"b\",method=\"*\").alias(\"STH\").get()"
   ]
  },
  {
   "cell_type": "code",
   "execution_count": null,
   "metadata": {},
   "outputs": [],
   "source": []
  }
 ],
 "metadata": {
  "kernelspec": {
   "display_name": "Python 3.8.13 ('pcb')",
   "language": "python",
   "name": "python3"
  },
  "language_info": {
   "codemirror_mode": {
    "name": "ipython",
    "version": 3
   },
   "file_extension": ".py",
   "mimetype": "text/x-python",
   "name": "python",
   "nbconvert_exporter": "python",
   "pygments_lexer": "ipython3",
   "version": "3.8.13"
  },
  "orig_nbformat": 4,
  "vscode": {
   "interpreter": {
    "hash": "5f34f50f4c635105d0e2673e05a75685805757d97f0204e88410f09ffbde1044"
   }
  }
 },
 "nbformat": 4,
 "nbformat_minor": 2
}
